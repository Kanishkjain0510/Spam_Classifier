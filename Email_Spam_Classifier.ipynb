{
 "cells": [
  {
   "cell_type": "code",
   "execution_count": 2,
   "id": "f50b37fa",
   "metadata": {
    "scrolled": false
   },
   "outputs": [
    {
     "name": "stdout",
     "output_type": "stream",
     "text": [
      "<class 'pandas.core.frame.DataFrame'>\n",
      "RangeIndex: 20573 entries, 0 to 20572\n",
      "Data columns (total 2 columns):\n",
      " #   Column   Non-Null Count  Dtype \n",
      "---  ------   --------------  ----- \n",
      " 0   label    20573 non-null  object\n",
      " 1   message  20573 non-null  object\n",
      "dtypes: object(2)\n",
      "memory usage: 321.6+ KB\n"
     ]
    },
    {
     "data": {
      "text/plain": [
       "0    Go until jurong point, crazy.. Available only ...\n",
       "1                        Ok lar... Joking wif u oni...\n",
       "3    U dun say so early hor... U c already then say...\n",
       "4    Nah I don't think he goes to usf, he lives aro...\n",
       "6    Even my brother is not like to speak with me. ...\n",
       "Name: message, dtype: object"
      ]
     },
     "execution_count": 2,
     "metadata": {},
     "output_type": "execute_result"
    }
   ],
   "source": [
    "import pandas as pd\n",
    "import numpy as np\n",
    "data=pd.read_csv('/home/kanishk-jain/Desktop/Github uploads/Spam Classifier/SpamClassifier_github/Data/SMSSpamCollection_augmented', sep='\\t', header=None, names=['label', 'message'])\n",
    "data.head()#first five entries\n",
    "data.tail()#last five entries\n",
    "data.info()#information of the data\n",
    "data.shape#rows and columns\n",
    "data['label'].value_counts()#go to label column and then count the number of repetitions of each entry entry spam is 747 times in the label column\n",
    "data[data['label']==\"spam\"]['message'].head()#in the dataset find the dataset of label==spam and print their messages, head() tells the first 5 messages of that label are to be count only\n",
    "data[data['label']=='ham']['message'].head()#here and above it is a condition data[condition][printing the desired part of the condtion true].head()\n",
    "#so just data['label']=='ham' will just give that in the data is the entry true or false\n"
   ]
  },
  {
   "cell_type": "code",
   "execution_count": 3,
   "id": "6a52e9a4",
   "metadata": {},
   "outputs": [
    {
     "data": {
      "text/plain": [
       "<function matplotlib.pyplot.show(close=None, block=None)>"
      ]
     },
     "execution_count": 3,
     "metadata": {},
     "output_type": "execute_result"
    },
    {
     "data": {
      "image/png": "[encoded data removed]",
      "text/plain": [
       "<Figure size 800x500 with 1 Axes>"
      ]
     },
     "metadata": {},
     "output_type": "display_data"
    }
   ],
   "source": [
    "import matplotlib.pyplot as plt\n",
    "import seaborn as sns\n",
    "sns.set_style(\"whitegrid\")\n",
    "plt.figure(figsize=(8,5))\n",
    "sns.countplot(x='label', data=data)#telling that the x axis should be having the entries from the label column\n",
    "plt.title('spam v/s ham')\n",
    "plt.xlabel('label')\n",
    "plt.ylabel('count')\n",
    "plt.show"
   ]
  },
  {
   "cell_type": "code",
   "execution_count": 4,
   "id": "85dd8f1a",
   "metadata": {},
   "outputs": [
    {
     "name": "stderr",
     "output_type": "stream",
     "text": [
      "[nltk_data] Downloading package stopwords to /home/kanishk-\n",
      "[nltk_data]     jain/nltk_data...\n",
      "[nltk_data]   Package stopwords is already up-to-date!\n",
      "[nltk_data] Downloading package punkt to /home/kanishk-\n",
      "[nltk_data]     jain/nltk_data...\n",
      "[nltk_data]   Package punkt is already up-to-date!\n"
     ]
    },
    {
     "data": {
      "text/html": [
       "<div>\n",
       "<style scoped>\n",
       "    .dataframe tbody tr th:only-of-type {\n",
       "        vertical-align: middle;\n",
       "    }\n",
       "\n",
       "    .dataframe tbody tr th {\n",
       "        vertical-align: top;\n",
       "    }\n",
       "\n",
       "    .dataframe thead th {\n",
       "        text-align: right;\n",
       "    }\n",
       "</style>\n",
       "<table border=\"1\" class=\"dataframe\">\n",
       "  <thead>\n",
       "    <tr style=\"text-align: right;\">\n",
       "      <th></th>\n",
       "      <th>label</th>\n",
       "      <th>message</th>\n",
       "      <th>cleaned</th>\n",
       "    </tr>\n",
       "  </thead>\n",
       "  <tbody>\n",
       "    <tr>\n",
       "      <th>0</th>\n",
       "      <td>ham</td>\n",
       "      <td>Go until jurong point, crazy.. Available only ...</td>\n",
       "      <td>go jurong point crazy available bugis n great ...</td>\n",
       "    </tr>\n",
       "    <tr>\n",
       "      <th>1</th>\n",
       "      <td>ham</td>\n",
       "      <td>Ok lar... Joking wif u oni...</td>\n",
       "      <td>ok lar joking wif u oni</td>\n",
       "    </tr>\n",
       "    <tr>\n",
       "      <th>2</th>\n",
       "      <td>spam</td>\n",
       "      <td>Free entry in 2 a wkly comp to win FA Cup fina...</td>\n",
       "      <td>free entry 2 wkly comp win fa cup final tkts 2...</td>\n",
       "    </tr>\n",
       "    <tr>\n",
       "      <th>3</th>\n",
       "      <td>ham</td>\n",
       "      <td>U dun say so early hor... U c already then say...</td>\n",
       "      <td>u dun say early hor u c already say</td>\n",
       "    </tr>\n",
       "    <tr>\n",
       "      <th>4</th>\n",
       "      <td>ham</td>\n",
       "      <td>Nah I don't think he goes to usf, he lives aro...</td>\n",
       "      <td>nah dont think goes usf lives around though</td>\n",
       "    </tr>\n",
       "  </tbody>\n",
       "</table>\n",
       "</div>"
      ],
      "text/plain": [
       "  label                                            message  \\\n",
       "0   ham  Go until jurong point, crazy.. Available only ...   \n",
       "1   ham                      Ok lar... Joking wif u oni...   \n",
       "2  spam  Free entry in 2 a wkly comp to win FA Cup fina...   \n",
       "3   ham  U dun say so early hor... U c already then say...   \n",
       "4   ham  Nah I don't think he goes to usf, he lives aro...   \n",
       "\n",
       "                                             cleaned  \n",
       "0  go jurong point crazy available bugis n great ...  \n",
       "1                            ok lar joking wif u oni  \n",
       "2  free entry 2 wkly comp win fa cup final tkts 2...  \n",
       "3                u dun say early hor u c already say  \n",
       "4        nah dont think goes usf lives around though  "
      ]
     },
     "execution_count": 4,
     "metadata": {},
     "output_type": "execute_result"
    }
   ],
   "source": [
    "import nltk\n",
    "import string\n",
    "from nltk.corpus import stopwords\n",
    "from nltk.tokenize import word_tokenize\n",
    "\n",
    "nltk.download('stopwords')#words like, the, is, if, a etc...\n",
    "nltk.download('punkt')#for puctuation marks\n",
    "\n",
    "def clean(text):\n",
    "    text=text.lower()#to make all the alphabets in the lowercase\n",
    "    text=''. join([char for char in text if char not in string.punctuation])#remove the punctuation marks by tokenizing each \"alphabet or character\"\n",
    "    tokens=word_tokenize(text)#tokenizing \"words\"\n",
    "    tokens=[word for word in tokens if word not in stopwords.words('english')]#checking each word that if it is a stopword according to english dictionary or not\n",
    "    return ' '.join(tokens)#if not the stop word then can join them again\n",
    "data['cleaned']=data['message'].apply(clean)#creating a new column and applying the \"clean\" function on them, and appending them back to the data\n",
    "data[['label', 'message', 'cleaned']].head()#showing the table with the newly added column"
   ]
  },
  {
   "cell_type": "code",
   "execution_count": 5,
   "id": "84a6aa01",
   "metadata": {},
   "outputs": [
    {
     "name": "stdout",
     "output_type": "stream",
     "text": [
      "Feature matrix shape: (20573, 4000)\n"
     ]
    }
   ],
   "source": [
    "from sklearn.feature_extraction.text import TfidfVectorizer \n",
    "vectorizer = TfidfVectorizer(max_features=4000)#taking all the words and then, choosing the most common 4000 words out of all of them\n",
    "X = vectorizer.fit_transform(data['cleaned'])#and the column which will be used for the above condition is the newly added column \"cleaned\"\n",
    "print(\"Feature matrix shape:\", X.shape)#and now we will print the shape of the matrix. If the word appears in the sentence once or more than once than we will put the the number of repetitions it is taking in the matrix at that particular cell"
   ]
  },
  {
   "cell_type": "code",
   "execution_count": 6,
   "id": "29193835",
   "metadata": {},
   "outputs": [
    {
     "data": {
      "text/html": [
       "<div>\n",
       "<style scoped>\n",
       "    .dataframe tbody tr th:only-of-type {\n",
       "        vertical-align: middle;\n",
       "    }\n",
       "\n",
       "    .dataframe tbody tr th {\n",
       "        vertical-align: top;\n",
       "    }\n",
       "\n",
       "    .dataframe thead th {\n",
       "        text-align: right;\n",
       "    }\n",
       "</style>\n",
       "<table border=\"1\" class=\"dataframe\">\n",
       "  <thead>\n",
       "    <tr style=\"text-align: right;\">\n",
       "      <th></th>\n",
       "      <th>label</th>\n",
       "      <th>label_encoded</th>\n",
       "    </tr>\n",
       "  </thead>\n",
       "  <tbody>\n",
       "    <tr>\n",
       "      <th>0</th>\n",
       "      <td>ham</td>\n",
       "      <td>0</td>\n",
       "    </tr>\n",
       "    <tr>\n",
       "      <th>1</th>\n",
       "      <td>ham</td>\n",
       "      <td>0</td>\n",
       "    </tr>\n",
       "    <tr>\n",
       "      <th>2</th>\n",
       "      <td>spam</td>\n",
       "      <td>1</td>\n",
       "    </tr>\n",
       "    <tr>\n",
       "      <th>3</th>\n",
       "      <td>ham</td>\n",
       "      <td>0</td>\n",
       "    </tr>\n",
       "    <tr>\n",
       "      <th>4</th>\n",
       "      <td>ham</td>\n",
       "      <td>0</td>\n",
       "    </tr>\n",
       "  </tbody>\n",
       "</table>\n",
       "</div>"
      ],
      "text/plain": [
       "  label  label_encoded\n",
       "0   ham              0\n",
       "1   ham              0\n",
       "2  spam              1\n",
       "3   ham              0\n",
       "4   ham              0"
      ]
     },
     "execution_count": 6,
     "metadata": {},
     "output_type": "execute_result"
    }
   ],
   "source": [
    "data['label_encoded'] = data['label'].map({'ham': 0, 'spam': 1})#normally encode ham as '0' and spam as '1'\n",
    "\n",
    "y = data['label_encoded']#and put this column in y\n",
    "\n",
    "data[['label', 'label_encoded']].head()#just printing few entries of the newly added columns"
   ]
  },
  {
   "cell_type": "code",
   "execution_count": 7,
   "id": "81919345",
   "metadata": {},
   "outputs": [
    {
     "name": "stdout",
     "output_type": "stream",
     "text": [
      "Training features shape: (16458, 4000)\n",
      "Testing features shape: (4115, 4000)\n",
      "Training labels shape: (16458,)\n",
      "Testing labels shape: (4115,)\n"
     ]
    }
   ],
   "source": [
    "# Import train_test_split\n",
    "from sklearn.model_selection import train_test_split\n",
    "\n",
    "X_train, X_test, y_train, y_test = train_test_split(X, y, test_size=0.2, random_state=42)#splitting the data into test and train set and the variables used are X=Matrix and y=encoded labels\n",
    "\n",
    "# Check the shapes\n",
    "print(\"Training features shape:\", X_train.shape)\n",
    "print(\"Testing features shape:\", X_test.shape)\n",
    "print(\"Training labels shape:\", y_train.shape)\n",
    "print(\"Testing labels shape:\", y_test.shape)\n",
    "\n",
    "\n",
    "#****Note here the words are the features each word of the most common 4000 words in a feature"
   ]
  },
  {
   "cell_type": "code",
   "execution_count": 8,
   "id": "bea87a2c",
   "metadata": {},
   "outputs": [
    {
     "name": "stdout",
     "output_type": "stream",
     "text": [
      "Model trained successfully!\n"
     ]
    }
   ],
   "source": [
    "from sklearn.linear_model import LogisticRegression#Import Logistic Regression\n",
    "from sklearn.naive_bayes import MultinomialNB\n",
    "\n",
    "classifier = LogisticRegression(random_state=42)#Initialize the classifier\n",
    "\n",
    "classifier.fit(X_train, y_train)#Train the model by putting the training set in the fit\n",
    "\n",
    "print(\"Model trained successfully!\")"
   ]
  },
  {
   "cell_type": "code",
   "execution_count": 9,
   "id": "58eb8e65",
   "metadata": {},
   "outputs": [
    {
     "name": "stdout",
     "output_type": "stream",
     "text": [
      "First 20 predictions: [0 0 1 0 0 0 0 0 0 0 0 0 0 0 1 0 0 0 0 0]\n"
     ]
    }
   ],
   "source": [
    "y_pred = classifier.predict(X_test)#Make predictions on the test set by putting the X_test in to the model \n",
    "\n",
    "print(\"First 20 predictions:\", y_pred[:20])#Print the first 20 predictions"
   ]
  },
  {
   "cell_type": "code",
   "execution_count": 10,
   "id": "6a7340da",
   "metadata": {},
   "outputs": [
    {
     "name": "stdout",
     "output_type": "stream",
     "text": [
      "Accuracy: 0.9893074119076549\n",
      "Precision: 0.9985974754558204\n",
      "Recall: 0.9430463576158941\n",
      "F1-Score: 0.9700272479564033\n",
      "\n",
      "Classification Report:\n",
      "               precision    recall  f1-score   support\n",
      "\n",
      "         Ham       0.99      1.00      0.99      3360\n",
      "        Spam       1.00      0.94      0.97       755\n",
      "\n",
      "    accuracy                           0.99      4115\n",
      "   macro avg       0.99      0.97      0.98      4115\n",
      "weighted avg       0.99      0.99      0.99      4115\n",
      "\n"
     ]
    }
   ],
   "source": [
    "from sklearn.metrics import accuracy_score, precision_score, recall_score, f1_score, classification_report#Import evaluation metrics\n",
    "\n",
    "# Calculate metrics\n",
    "accuracy = accuracy_score(y_test, y_pred)\n",
    "precision = precision_score(y_test, y_pred)\n",
    "recall = recall_score(y_test, y_pred)\n",
    "f1 = f1_score(y_test, y_pred)\n",
    "\n",
    "# Print results\n",
    "print(\"Accuracy:\", accuracy)\n",
    "print(\"Precision:\", precision)\n",
    "print(\"Recall:\", recall)\n",
    "print(\"F1-Score:\", f1)\n",
    "\n",
    "# Print detailed report\n",
    "print(\"\\nClassification Report:\\n\", classification_report(y_test, y_pred, target_names=['Ham', 'Spam']))"
   ]
  },
  {
   "cell_type": "code",
   "execution_count": 11,
   "id": "4d03d2ef",
   "metadata": {},
   "outputs": [
    {
     "data": {
      "image/png": "[encoded data removed]",
      "text/plain": [
       "<Figure size 600x500 with 2 Axes>"
      ]
     },
     "metadata": {},
     "output_type": "display_data"
    }
   ],
   "source": [
    "from sklearn.metrics import confusion_matrix\n",
    "import seaborn as sns\n",
    "import matplotlib.pyplot as plt\n",
    "\n",
    "cm = confusion_matrix(y_test, y_pred)#Compute confusion matrix\n",
    "\n",
    "plt.figure(figsize=(6, 5))\n",
    "sns.heatmap(cm, annot=True, fmt='d', cmap='Blues', xticklabels=['Ham', 'Spam'], yticklabels=['Ham', 'Spam'])#Plot confusion matrix\n",
    "plt.title('Confusion Matrix')\n",
    "plt.xlabel('Predicted')\n",
    "plt.ylabel('Actual')\n",
    "plt.show()"
   ]
  },
  {
   "cell_type": "code",
   "execution_count": 12,
   "id": "c9e03b7d",
   "metadata": {},
   "outputs": [],
   "source": [
    "def classify_message(message):#function to classify a new message\n",
    "    cleaned_message = clean(message)\n",
    "    message_features = vectorizer.transform([cleaned_message])\n",
    "    prediction = classifier.predict(message_features)#predict\n",
    "    return \"Spam\" if prediction[0] == 1 else \"Ham\""
   ]
  },
  {
   "cell_type": "code",
   "execution_count": 16,
   "id": "93e7c8ba",
   "metadata": {},
   "outputs": [],
   "source": [
    "import sys\n",
    "sys.path.insert(0, '/home/kanishk-jain/Desktop/SpamClassifier/')\n",
    "import ttkbootstrap as ttk"
   ]
  },
  {
   "cell_type": "code",
   "execution_count": 17,
   "id": "99a3b30c",
   "metadata": {},
   "outputs": [],
   "source": [
    "import tkinter as tk\n",
    "from tkinter import ttk,messagebox\n",
    "from PIL import Image, ImageTk\n",
    "import os\n",
    "import ttkbootstrap as ttk\n",
    "from ttkbootstrap.constants import *\n",
    "from tkinter import messagebox"
   ]
  },
  {
   "cell_type": "code",
   "execution_count": 18,
   "id": "20ecedfc",
   "metadata": {},
   "outputs": [],
   "source": [
    "def classify_message(message):#dummy function — replace with your real classifier\n",
    "    return \"Spam\" if \"win\" in message.lower() else \"Not Spam\"\n",
    "\n",
    "def create_gui():\n",
    "    window = ttk.Window(themename=\"cosmo\")\n",
    "    window.title(\"📩 SMS Spam Classifier\")\n",
    "    window.geometry(\"600x450\")\n",
    "    ttk.Label(window, text=\"📨 Enter an SMS message to classify\", font=(\"Arial\", 14, \"bold\")).pack(pady=15)\n",
    "    text_entry = ttk.Text(window, height=6, width=60, wrap=\"word\", font=(\"Arial\", 11))\n",
    "    text_entry.pack(pady=10, padx=20)\n",
    "\n",
    "    result_label = ttk.Label(window, text=\"\", font=(\"Arial\", 12), bootstyle=\"info\")\n",
    "    result_label.pack(pady=10)\n",
    "\n",
    "    def on_classify():\n",
    "        message = text_entry.get(\"1.0\", \"end\").strip()\n",
    "        if message:\n",
    "            result = classify_message(message)\n",
    "            result_label.config(text=f\"🧠 Prediction: {result}\")\n",
    "        else:\n",
    "            messagebox.showwarning(\"Input Error\", \"Please enter a message!\")\n",
    "\n",
    "    def on_clear():\n",
    "        text_entry.delete(\"1.0\", \"end\")\n",
    "        result_label.config(text=\"\")\n",
    "\n",
    "    button_frame = ttk.Frame(window)\n",
    "    button_frame.pack(pady=10)\n",
    "\n",
    "    ttk.Button(button_frame, text=\"Classify\", command=on_classify, bootstyle=\"success-outline\").pack(side=\"left\", padx=10)\n",
    "    ttk.Button(button_frame, text=\"Clear\", command=on_clear, bootstyle=\"secondary-outline\").pack(side=\"left\", padx=10)\n",
    "\n",
    "    ttk.Label(window, text=\"🔒 This tool predicts spam messages using ML\", font=(\"Arial\", 9), bootstyle=\"secondary\").pack(pady=20)\n",
    "\n",
    "    window.mainloop()\n"
   ]
  },
  {
   "cell_type": "code",
   "execution_count": 19,
   "id": "94f6dfaa",
   "metadata": {},
   "outputs": [
    {
     "name": "stdout",
     "output_type": "stream",
     "text": [
      "Launching GUI...\n"
     ]
    }
   ],
   "source": [
    "# Run the GUI\n",
    "print(\"Launching GUI...\")\n",
    "create_gui()"
   ]
  },
  {
   "cell_type": "code",
   "execution_count": null,
   "id": "a34b04fc",
   "metadata": {},
   "outputs": [],
   "source": []
  },
  {
   "cell_type": "code",
   "execution_count": null,
   "id": "416b286a",
   "metadata": {},
   "outputs": [],
   "source": []
  }
 ],
 "metadata": {
  "kernelspec": {
   "display_name": "Python 3 (ipykernel)",
   "language": "python",
   "name": "python3"
  },
  "language_info": {
   "codemirror_mode": {
    "name": "ipython",
    "version": 3
   },
   "file_extension": ".py",
   "mimetype": "text/x-python",
   "name": "python",
   "nbconvert_exporter": "python",
   "pygments_lexer": "ipython3",
   "version": "3.12.7"
  }
 },
 "nbformat": 4,
 "nbformat_minor": 5
}
